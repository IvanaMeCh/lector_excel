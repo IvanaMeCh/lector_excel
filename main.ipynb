{
 "cells": [
  {
   "cell_type": "code",
   "execution_count": 7,
   "metadata": {},
   "outputs": [],
   "source": [
    "#Importamos las dependencias\n",
    "from utils import (\n",
    "    get_dataframe,\n",
    "    limpiar_df,\n",
    "    separar_dataframes,\n",
    ")"
   ]
  },
  {
   "cell_type": "code",
   "execution_count": 4,
   "metadata": {},
   "outputs": [],
   "source": [
    "# Obtener DataFrame\n",
    "df_marangatu = get_dataframe(\"libro-compras-marangatu\")\n",
    "df_abaco = get_dataframe(\"libro-compras-abaco\")"
   ]
  },
  {
   "cell_type": "code",
   "execution_count": 5,
   "metadata": {},
   "outputs": [],
   "source": [
    "# Limpiar DataFrames\n",
    "df_limpio_abaco = limpiar_df(df_abaco, \"abaco\")\n",
    "df_limpio_marangatu = limpiar_df(df_marangatu, \"marangatu\")"
   ]
  },
  {
   "cell_type": "code",
   "execution_count": 6,
   "metadata": {},
   "outputs": [],
   "source": [
    "# Asumiendo que ya tienes los DataFrames limpios, separarlos\n",
    "resultados = separar_dataframes(df_limpio_abaco, df_limpio_marangatu)\n",
    "\n",
    "if resultados:\n",
    "    # Acceder a los DataFrames resultantes\n",
    "    solo_abaco = resultados[\"solo_abaco\"]\n",
    "    solo_marangatu = resultados[\"solo_marangatu\"]\n",
    "    coincidentes_abaco = resultados[\"coincidentes_abaco\"]\n",
    "    coincidentes_marangatu = resultados[\"coincidentes_marangatu\"]"
   ]
  },
  {
   "cell_type": "markdown",
   "metadata": {},
   "source": [
    "# Observaciones\n",
    "Llegados a este punto debemos definir si los comprobantes existentes en abaco / marangatu imputan al IVA.\n",
    "El dataframe que define si imputa al IVA es el de `marangatu`"
   ]
  }
 ],
 "metadata": {
  "kernelspec": {
   "display_name": "venv",
   "language": "python",
   "name": "python3"
  },
  "language_info": {
   "codemirror_mode": {
    "name": "ipython",
    "version": 3
   },
   "file_extension": ".py",
   "mimetype": "text/x-python",
   "name": "python",
   "nbconvert_exporter": "python",
   "pygments_lexer": "ipython3",
   "version": "3.13.1"
  }
 },
 "nbformat": 4,
 "nbformat_minor": 2
}
